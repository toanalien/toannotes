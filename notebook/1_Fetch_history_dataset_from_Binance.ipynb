{
  "nbformat": 4,
  "nbformat_minor": 0,
  "metadata": {
    "colab": {
      "name": "1. Fetch history dataset from Binance",
      "provenance": [],
      "collapsed_sections": []
    },
    "kernelspec": {
      "name": "python3",
      "display_name": "Python 3"
    },
    "language_info": {
      "name": "python"
    }
  },
  "cells": [
    {
      "cell_type": "code",
      "metadata": {
        "colab": {
          "base_uri": "https://localhost:8080/"
        },
        "id": "BdSTAnHN4hWb",
        "outputId": "7a235cf5-cab0-4486-f80b-2155394b2d8d"
      },
      "source": [
        "!pip install python-binance pandas"
      ],
      "execution_count": 1,
      "outputs": [
        {
          "output_type": "stream",
          "text": [
            "Requirement already satisfied: python-binance in /usr/local/lib/python3.7/dist-packages (0.7.10)\n",
            "Requirement already satisfied: pandas in /usr/local/lib/python3.7/dist-packages (1.1.5)\n",
            "Requirement already satisfied: pyOpenSSL in /usr/local/lib/python3.7/dist-packages (from python-binance) (20.0.1)\n",
            "Requirement already satisfied: dateparser in /usr/local/lib/python3.7/dist-packages (from python-binance) (1.0.0)\n",
            "Requirement already satisfied: autobahn in /usr/local/lib/python3.7/dist-packages (from python-binance) (21.3.1)\n",
            "Requirement already satisfied: cryptography in /usr/local/lib/python3.7/dist-packages (from python-binance) (3.4.7)\n",
            "Requirement already satisfied: ujson in /usr/local/lib/python3.7/dist-packages (from python-binance) (4.0.2)\n",
            "Requirement already satisfied: six in /usr/local/lib/python3.7/dist-packages (from python-binance) (1.15.0)\n",
            "Requirement already satisfied: Twisted in /usr/local/lib/python3.7/dist-packages (from python-binance) (21.2.0)\n",
            "Requirement already satisfied: service-identity in /usr/local/lib/python3.7/dist-packages (from python-binance) (18.1.0)\n",
            "Requirement already satisfied: urllib3 in /usr/local/lib/python3.7/dist-packages (from python-binance) (1.24.3)\n",
            "Requirement already satisfied: requests in /usr/local/lib/python3.7/dist-packages (from python-binance) (2.23.0)\n",
            "Requirement already satisfied: certifi in /usr/local/lib/python3.7/dist-packages (from python-binance) (2020.12.5)\n",
            "Requirement already satisfied: python-dateutil>=2.7.3 in /usr/local/lib/python3.7/dist-packages (from pandas) (2.8.1)\n",
            "Requirement already satisfied: pytz>=2017.2 in /usr/local/lib/python3.7/dist-packages (from pandas) (2018.9)\n",
            "Requirement already satisfied: numpy>=1.15.4 in /usr/local/lib/python3.7/dist-packages (from pandas) (1.19.5)\n",
            "Requirement already satisfied: regex!=2019.02.19 in /usr/local/lib/python3.7/dist-packages (from dateparser->python-binance) (2019.12.20)\n",
            "Requirement already satisfied: tzlocal in /usr/local/lib/python3.7/dist-packages (from dateparser->python-binance) (1.5.1)\n",
            "Requirement already satisfied: hyperlink>=21.0.0 in /usr/local/lib/python3.7/dist-packages (from autobahn->python-binance) (21.0.0)\n",
            "Requirement already satisfied: txaio>=21.2.1 in /usr/local/lib/python3.7/dist-packages (from autobahn->python-binance) (21.2.1)\n",
            "Requirement already satisfied: cffi>=1.12 in /usr/local/lib/python3.7/dist-packages (from cryptography->python-binance) (1.14.5)\n",
            "Requirement already satisfied: Automat>=0.8.0 in /usr/local/lib/python3.7/dist-packages (from Twisted->python-binance) (20.2.0)\n",
            "Requirement already satisfied: attrs>=19.2.0 in /usr/local/lib/python3.7/dist-packages (from Twisted->python-binance) (20.3.0)\n",
            "Requirement already satisfied: constantly>=15.1 in /usr/local/lib/python3.7/dist-packages (from Twisted->python-binance) (15.1.0)\n",
            "Requirement already satisfied: incremental>=16.10.1 in /usr/local/lib/python3.7/dist-packages (from Twisted->python-binance) (21.3.0)\n",
            "Requirement already satisfied: zope.interface>=4.4.2 in /usr/local/lib/python3.7/dist-packages (from Twisted->python-binance) (5.4.0)\n",
            "Requirement already satisfied: pyasn1 in /usr/local/lib/python3.7/dist-packages (from service-identity->python-binance) (0.4.8)\n",
            "Requirement already satisfied: pyasn1-modules in /usr/local/lib/python3.7/dist-packages (from service-identity->python-binance) (0.2.8)\n",
            "Requirement already satisfied: chardet<4,>=3.0.2 in /usr/local/lib/python3.7/dist-packages (from requests->python-binance) (3.0.4)\n",
            "Requirement already satisfied: idna<3,>=2.5 in /usr/local/lib/python3.7/dist-packages (from requests->python-binance) (2.10)\n",
            "Requirement already satisfied: pycparser in /usr/local/lib/python3.7/dist-packages (from cffi>=1.12->cryptography->python-binance) (2.20)\n",
            "Requirement already satisfied: setuptools in /usr/local/lib/python3.7/dist-packages (from zope.interface>=4.4.2->Twisted->python-binance) (54.2.0)\n"
          ],
          "name": "stdout"
        }
      ]
    },
    {
      "cell_type": "code",
      "metadata": {
        "id": "_uQoHsYi4SVe"
      },
      "source": [
        "from datetime import datetime, timedelta\n",
        "import pandas as pd\n",
        "from binance.client import Client\n",
        "binance_client = Client()"
      ],
      "execution_count": 2,
      "outputs": []
    },
    {
      "cell_type": "code",
      "metadata": {
        "id": "2uv-s9Fj4mKo"
      },
      "source": [
        "def get_bins(symbol, kline_size=\"1h\", period=1000):\n",
        "    now = datetime.now()\n",
        "    thousand_hours_ago = now - timedelta(hours=period)\n",
        "    time_ago = thousand_hours_ago.timestamp() * 1000\n",
        "    klines = binance_client.get_historical_klines(symbol, kline_size, int(time_ago))\n",
        "\n",
        "    bins = []\n",
        "\n",
        "    for k in klines:\n",
        "        bins.append({\n",
        "            \"Datetime\": datetime.fromtimestamp(k[0] / 1000),\n",
        "            \"timestamp\": float(k[0] / 1000),\n",
        "            \"Open\": float(k[1]),\n",
        "            \"Close\": float(k[4]),\n",
        "            \"High\": float(k[2]),\n",
        "            \"Low\": float(k[3]),\n",
        "            \"Volume\": float(k[5]),\n",
        "        })\n",
        "\n",
        "    def sort_date(val):\n",
        "        return val['timestamp']\n",
        "\n",
        "    bins = list(bins)\n",
        "    return bins"
      ],
      "execution_count": 3,
      "outputs": []
    },
    {
      "cell_type": "code",
      "metadata": {
        "id": "B3J_7cch4xHT"
      },
      "source": [
        "bins = get_bins('BNBUSDT')"
      ],
      "execution_count": 4,
      "outputs": []
    },
    {
      "cell_type": "code",
      "metadata": {
        "colab": {
          "base_uri": "https://localhost:8080/"
        },
        "id": "AghcZJ9X5Nkm",
        "outputId": "bc7f0c3a-ffbc-46c3-f7e7-6675da56a026"
      },
      "source": [
        "len(bins)"
      ],
      "execution_count": 5,
      "outputs": [
        {
          "output_type": "execute_result",
          "data": {
            "text/plain": [
              "1000"
            ]
          },
          "metadata": {
            "tags": []
          },
          "execution_count": 5
        }
      ]
    },
    {
      "cell_type": "code",
      "metadata": {
        "colab": {
          "base_uri": "https://localhost:8080/"
        },
        "id": "orJp19Ea51hf",
        "outputId": "078d9fcc-d103-4a29-86ff-07f3c93de7b4"
      },
      "source": [
        "bins[0]"
      ],
      "execution_count": 6,
      "outputs": [
        {
          "output_type": "execute_result",
          "data": {
            "text/plain": [
              "{'Close': 223.403,\n",
              " 'Datetime': datetime.datetime(2021, 3, 6, 12, 0),\n",
              " 'High': 225.5626,\n",
              " 'Low': 222.001,\n",
              " 'Open': 225.2201,\n",
              " 'Volume': 164100.782,\n",
              " 'timestamp': 1615032000.0}"
            ]
          },
          "metadata": {
            "tags": []
          },
          "execution_count": 6
        }
      ]
    },
    {
      "cell_type": "code",
      "metadata": {
        "colab": {
          "base_uri": "https://localhost:8080/",
          "height": 450
        },
        "id": "sDGsDqqQ5es6",
        "outputId": "44afcb73-105b-4d32-b3cc-8441f9de4ffd"
      },
      "source": [
        "df = pd.DataFrame(bins)\n",
        "df.set_index('Datetime')"
      ],
      "execution_count": 7,
      "outputs": [
        {
          "output_type": "execute_result",
          "data": {
            "text/html": [
              "<div>\n",
              "<style scoped>\n",
              "    .dataframe tbody tr th:only-of-type {\n",
              "        vertical-align: middle;\n",
              "    }\n",
              "\n",
              "    .dataframe tbody tr th {\n",
              "        vertical-align: top;\n",
              "    }\n",
              "\n",
              "    .dataframe thead th {\n",
              "        text-align: right;\n",
              "    }\n",
              "</style>\n",
              "<table border=\"1\" class=\"dataframe\">\n",
              "  <thead>\n",
              "    <tr style=\"text-align: right;\">\n",
              "      <th></th>\n",
              "      <th>timestamp</th>\n",
              "      <th>Open</th>\n",
              "      <th>Close</th>\n",
              "      <th>High</th>\n",
              "      <th>Low</th>\n",
              "      <th>Volume</th>\n",
              "    </tr>\n",
              "    <tr>\n",
              "      <th>Datetime</th>\n",
              "      <th></th>\n",
              "      <th></th>\n",
              "      <th></th>\n",
              "      <th></th>\n",
              "      <th></th>\n",
              "      <th></th>\n",
              "    </tr>\n",
              "  </thead>\n",
              "  <tbody>\n",
              "    <tr>\n",
              "      <th>2021-03-06 12:00:00</th>\n",
              "      <td>1.615032e+09</td>\n",
              "      <td>225.2201</td>\n",
              "      <td>223.4030</td>\n",
              "      <td>225.5626</td>\n",
              "      <td>222.0010</td>\n",
              "      <td>164100.782</td>\n",
              "    </tr>\n",
              "    <tr>\n",
              "      <th>2021-03-06 13:00:00</th>\n",
              "      <td>1.615036e+09</td>\n",
              "      <td>223.4161</td>\n",
              "      <td>222.0000</td>\n",
              "      <td>223.8999</td>\n",
              "      <td>219.1514</td>\n",
              "      <td>177609.025</td>\n",
              "    </tr>\n",
              "    <tr>\n",
              "      <th>2021-03-06 14:00:00</th>\n",
              "      <td>1.615039e+09</td>\n",
              "      <td>222.0000</td>\n",
              "      <td>222.6577</td>\n",
              "      <td>223.3499</td>\n",
              "      <td>220.4524</td>\n",
              "      <td>117723.832</td>\n",
              "    </tr>\n",
              "    <tr>\n",
              "      <th>2021-03-06 15:00:00</th>\n",
              "      <td>1.615043e+09</td>\n",
              "      <td>222.6577</td>\n",
              "      <td>221.7053</td>\n",
              "      <td>223.4088</td>\n",
              "      <td>221.5000</td>\n",
              "      <td>91977.123</td>\n",
              "    </tr>\n",
              "    <tr>\n",
              "      <th>2021-03-06 16:00:00</th>\n",
              "      <td>1.615046e+09</td>\n",
              "      <td>221.6797</td>\n",
              "      <td>223.4575</td>\n",
              "      <td>224.8333</td>\n",
              "      <td>220.5317</td>\n",
              "      <td>132612.614</td>\n",
              "    </tr>\n",
              "    <tr>\n",
              "      <th>...</th>\n",
              "      <td>...</td>\n",
              "      <td>...</td>\n",
              "      <td>...</td>\n",
              "      <td>...</td>\n",
              "      <td>...</td>\n",
              "      <td>...</td>\n",
              "    </tr>\n",
              "    <tr>\n",
              "      <th>2021-04-16 23:00:00</th>\n",
              "      <td>1.618614e+09</td>\n",
              "      <td>511.2875</td>\n",
              "      <td>508.2743</td>\n",
              "      <td>515.0251</td>\n",
              "      <td>507.4177</td>\n",
              "      <td>63367.893</td>\n",
              "    </tr>\n",
              "    <tr>\n",
              "      <th>2021-04-17 00:00:00</th>\n",
              "      <td>1.618618e+09</td>\n",
              "      <td>508.2614</td>\n",
              "      <td>508.7141</td>\n",
              "      <td>514.5734</td>\n",
              "      <td>506.9230</td>\n",
              "      <td>77008.572</td>\n",
              "    </tr>\n",
              "    <tr>\n",
              "      <th>2021-04-17 01:00:00</th>\n",
              "      <td>1.618621e+09</td>\n",
              "      <td>508.7207</td>\n",
              "      <td>517.4062</td>\n",
              "      <td>519.3546</td>\n",
              "      <td>508.3330</td>\n",
              "      <td>88910.854</td>\n",
              "    </tr>\n",
              "    <tr>\n",
              "      <th>2021-04-17 02:00:00</th>\n",
              "      <td>1.618625e+09</td>\n",
              "      <td>517.3952</td>\n",
              "      <td>525.1795</td>\n",
              "      <td>526.9747</td>\n",
              "      <td>517.2372</td>\n",
              "      <td>95211.645</td>\n",
              "    </tr>\n",
              "    <tr>\n",
              "      <th>2021-04-17 03:00:00</th>\n",
              "      <td>1.618628e+09</td>\n",
              "      <td>525.1624</td>\n",
              "      <td>525.7577</td>\n",
              "      <td>531.2200</td>\n",
              "      <td>522.8100</td>\n",
              "      <td>90843.012</td>\n",
              "    </tr>\n",
              "  </tbody>\n",
              "</table>\n",
              "<p>1000 rows × 6 columns</p>\n",
              "</div>"
            ],
            "text/plain": [
              "                        timestamp      Open  ...       Low      Volume\n",
              "Datetime                                     ...                      \n",
              "2021-03-06 12:00:00  1.615032e+09  225.2201  ...  222.0010  164100.782\n",
              "2021-03-06 13:00:00  1.615036e+09  223.4161  ...  219.1514  177609.025\n",
              "2021-03-06 14:00:00  1.615039e+09  222.0000  ...  220.4524  117723.832\n",
              "2021-03-06 15:00:00  1.615043e+09  222.6577  ...  221.5000   91977.123\n",
              "2021-03-06 16:00:00  1.615046e+09  221.6797  ...  220.5317  132612.614\n",
              "...                           ...       ...  ...       ...         ...\n",
              "2021-04-16 23:00:00  1.618614e+09  511.2875  ...  507.4177   63367.893\n",
              "2021-04-17 00:00:00  1.618618e+09  508.2614  ...  506.9230   77008.572\n",
              "2021-04-17 01:00:00  1.618621e+09  508.7207  ...  508.3330   88910.854\n",
              "2021-04-17 02:00:00  1.618625e+09  517.3952  ...  517.2372   95211.645\n",
              "2021-04-17 03:00:00  1.618628e+09  525.1624  ...  522.8100   90843.012\n",
              "\n",
              "[1000 rows x 6 columns]"
            ]
          },
          "metadata": {
            "tags": []
          },
          "execution_count": 7
        }
      ]
    }
  ]
}
